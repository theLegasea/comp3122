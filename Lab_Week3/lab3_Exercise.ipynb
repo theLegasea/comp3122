{
 "cells": [
  {
   "cell_type": "markdown",
   "metadata": {},
   "source": [
    "# Lab exercise, week 3 - numpy & matplotlib basics\n",
    "\n",
    "Contents:\n",
    "- Overview of numpy arrays\n",
    "- Exercises for numpy\n",
    "- Exercises for plotting"
   ]
  },
  {
   "cell_type": "markdown",
   "metadata": {},
   "source": [
    "## NumPy - overview\n",
    "\n",
    "Python lists are somewhat weird creatures. In contrast to basic array types in other languages like C# and Java, they can hold objects of different types and new elements can be inserted in the middle. NumPy arrays are much more like C# arrays - all elements have the same type."
   ]
  },
  {
   "cell_type": "code",
   "metadata": {},
   "source": [
    "# by convention numpy is always imported as np\n",
    "import numpy as np"
   ],
   "outputs": [],
   "execution_count": null
  },
  {
   "cell_type": "markdown",
   "metadata": {},
   "source": [
    "### Common ways of creating numpy arrays"
   ]
  },
  {
   "cell_type": "code",
   "metadata": {},
   "source": [
    "a = np.array([5, 2, 17])  # Convert a Python list into a numpy array\n",
    "a"
   ],
   "outputs": [],
   "execution_count": null
  },
  {
   "cell_type": "code",
   "metadata": {},
   "source": [
    "# List of lists gets converted into a 2D array\n",
    "np.array([[5, 7, 2],\n",
    "          [9, 4, 1]])\n"
   ],
   "outputs": [],
   "execution_count": null
  },
  {
   "cell_type": "code",
   "metadata": {},
   "source": [
    "np.arange(5)  # Same as Python's range() but creates a numpy array"
   ],
   "outputs": [],
   "execution_count": null
  },
  {
   "cell_type": "code",
   "metadata": {},
   "source": [
    "np.zeros(5)  # Create a numpy array with five elements, all set to zero"
   ],
   "outputs": [],
   "execution_count": null
  },
  {
   "cell_type": "code",
   "metadata": {},
   "source": [
    "c = np.ones(7)  # Create a numpy array with five elements, all set to 1\n",
    "c\n"
   ],
   "outputs": [],
   "execution_count": null
  },
  {
   "cell_type": "code",
   "metadata": {},
   "source": [
    "# Array of 6 random numbers between 0 and 1\n",
    "np.random.rand(6)"
   ],
   "outputs": [],
   "execution_count": null
  },
  {
   "cell_type": "code",
   "metadata": {},
   "source": [
    "# array with 6 random integers between 0 and 100 (not including 100 as usual)\n",
    "np.random.randint(100, size=6)"
   ],
   "outputs": [],
   "execution_count": null
  },
  {
   "cell_type": "markdown",
   "metadata": {},
   "source": [
    "### Array properties"
   ]
  },
  {
   "cell_type": "code",
   "metadata": {},
   "source": [
    "b = np.array([[5, 7, 2],\n",
    "              [9, 4, 1]])\n",
    "b"
   ],
   "outputs": [],
   "execution_count": null
  },
  {
   "cell_type": "code",
   "metadata": {},
   "source": [
    "# Data type of the array\n",
    "a.dtype"
   ],
   "outputs": [],
   "execution_count": null
  },
  {
   "cell_type": "code",
   "metadata": {},
   "source": [
    "# number of dimensions\n",
    "b.ndim "
   ],
   "outputs": [],
   "execution_count": null
  },
  {
   "cell_type": "code",
   "metadata": {},
   "source": [
    "# array shape is a Python tuple, in this case it's (2, 3) because b is a 2 by 3 array.\n",
    "b.shape"
   ],
   "outputs": [],
   "execution_count": null
  },
  {
   "cell_type": "code",
   "metadata": {},
   "source": [
    "# The total number of elements\n",
    "b.size "
   ],
   "outputs": [],
   "execution_count": null
  },
  {
   "cell_type": "code",
   "metadata": {},
   "source": [
    "# Note that zeros byt default uses the float64 data type\n",
    "z = np.zeros(7)\n",
    "z.dtype"
   ],
   "outputs": [],
   "execution_count": null
  },
  {
   "cell_type": "code",
   "metadata": {},
   "source": [
    "# But data type can be set explicitly, almost all numpy functions that create arrays take an optional dtype parameter\n",
    "# Let's set it to an 8 bit integer\n",
    "z = np.zeros(7, dtype=np.int8)  \n",
    "z.dtype"
   ],
   "outputs": [],
   "execution_count": null
  },
  {
   "cell_type": "markdown",
   "metadata": {},
   "source": [
    "## Exercises\n",
    "\n",
    "Read section 2.2 of the book (The Basics of NumPy Arrays) and complete the tasks below.\n"
   ]
  },
  {
   "cell_type": "markdown",
   "metadata": {},
   "source": [
    "### Numpy Array Creation"
   ]
  },
  {
   "cell_type": "markdown",
   "metadata": {},
   "source": [
    "##### Convert a list into a numpy array"
   ]
  },
  {
   "cell_type": "code",
   "metadata": {},
   "source": [
    "lst = [5, 3, 8, 4]\n",
    "lst"
   ],
   "outputs": [],
   "execution_count": null
  },
  {
   "cell_type": "code",
   "metadata": {},
   "source": [
    "# your code here\n",
    "x = np.array(lst)\n",
    "x"
   ],
   "outputs": [],
   "execution_count": null
  },
  {
   "cell_type": "markdown",
   "metadata": {},
   "source": [
    "#### What happens when you multiply a list by 3, what a about an array multiplied by 3?"
   ]
  },
  {
   "metadata": {},
   "cell_type": "code",
   "source": [
    "# Feel free to add more cells\n",
    "lst_times3 = lst * 3\n",
    "lst_times3"
   ],
   "outputs": [],
   "execution_count": null
  },
  {
   "metadata": {},
   "cell_type": "code",
   "source": [
    "arrTimes3 = x * 3\n",
    "arrTimes3"
   ],
   "outputs": [],
   "execution_count": null
  },
  {
   "cell_type": "markdown",
   "metadata": {},
   "source": [
    "#### Create an array of 10 ones [1, 1, 1, ... ]"
   ]
  },
  {
   "cell_type": "code",
   "metadata": {},
   "source": [
    "onesArr = np.ones(10)\n",
    "onesArr"
   ],
   "outputs": [],
   "execution_count": null
  },
  {
   "cell_type": "markdown",
   "metadata": {},
   "source": [
    "#### Create an array of 10 fives [5, 5, 5, .... ]"
   ]
  },
  {
   "cell_type": "code",
   "metadata": {},
   "source": [
    "fivesArr = np.ones(10) * 5\n",
    "fivesArr"
   ],
   "outputs": [],
   "execution_count": null
  },
  {
   "cell_type": "markdown",
   "metadata": {},
   "source": [
    "#### Create an array of the integers from 10 to 50 (including 50)"
   ]
  },
  {
   "cell_type": "code",
   "metadata": {},
   "source": [
    "arrRange = np.arange(10, 51)\n",
    "arrRange"
   ],
   "outputs": [],
   "execution_count": null
  },
  {
   "cell_type": "markdown",
   "metadata": {},
   "source": [
    "#### Create an array of 10 random numbers between 0 and 5"
   ]
  },
  {
   "cell_type": "code",
   "metadata": {},
   "source": [
    "arrRand = np.random.rand(10) * 5\n",
    "arrRand"
   ],
   "outputs": [],
   "execution_count": null
  },
  {
   "cell_type": "markdown",
   "metadata": {},
   "source": [
    "#### Read the help for np.linspace function and create an array of 11 evenly spaced elements between 0 and 2\n",
    "use `np.linspace?` or `?np.linspace` to show the help"
   ]
  },
  {
   "cell_type": "code",
   "metadata": {},
   "source": "np.linspace(0,2,11)",
   "outputs": [],
   "execution_count": null
  },
  {
   "cell_type": "markdown",
   "metadata": {},
   "source": [
    "#### Create a 3 by 4 array of ones"
   ]
  },
  {
   "cell_type": "code",
   "metadata": {},
   "source": [
    "ones1 = np.ones((3,4))\n",
    "print(ones1)\n"
   ],
   "outputs": [],
   "execution_count": null
  },
  {
   "cell_type": "markdown",
   "metadata": {},
   "source": [
    "#### Create a 3 by 4 array of fives"
   ]
  },
  {
   "cell_type": "code",
   "metadata": {},
   "source": [
    "fives = np.ones((3,4)) * 5\n",
    "print(fives)"
   ],
   "outputs": [],
   "execution_count": null
  },
  {
   "cell_type": "markdown",
   "metadata": {},
   "source": [
    "### Array Indexing\n",
    "Using the following arrays `a` and `m` for the questions below"
   ]
  },
  {
   "cell_type": "code",
   "metadata": {},
   "source": [
    "a = np.arange(10,21)\n",
    "a"
   ],
   "outputs": [],
   "execution_count": null
  },
  {
   "cell_type": "code",
   "metadata": {},
   "source": [
    "m = np.arange(1,22).reshape((3,7))\n",
    "print(m)"
   ],
   "outputs": [],
   "execution_count": null
  },
  {
   "cell_type": "markdown",
   "metadata": {},
   "source": [
    "### Create an array containing... \n",
    "#### the first 4 elements of a"
   ]
  },
  {
   "cell_type": "code",
   "metadata": {},
   "source": [
    "a1 = a[0:4]\n",
    "a1"
   ],
   "outputs": [],
   "execution_count": null
  },
  {
   "cell_type": "markdown",
   "metadata": {},
   "source": [
    "#### the last 3 elements of a"
   ]
  },
  {
   "cell_type": "code",
   "metadata": {},
   "source": [
    "a2 = a[-3:]\n",
    "a2"
   ],
   "outputs": [],
   "execution_count": null
  },
  {
   "cell_type": "markdown",
   "metadata": {},
   "source": [
    "#### The middle elements of a from 15 to 18 inclusive"
   ]
  },
  {
   "cell_type": "code",
   "metadata": {},
   "source": [
    "a3 = a[5:9]\n",
    "a3"
   ],
   "outputs": [],
   "execution_count": null
  },
  {
   "cell_type": "markdown",
   "metadata": {},
   "source": [
    "#### The first column of m"
   ]
  },
  {
   "cell_type": "code",
   "metadata": {},
   "source": [
    "m1 = m[:,0]\n",
    "m1"
   ],
   "outputs": [],
   "execution_count": null
  },
  {
   "cell_type": "markdown",
   "metadata": {},
   "source": [
    "#### The middle row of m"
   ]
  },
  {
   "cell_type": "code",
   "metadata": {},
   "source": [
    "m2 = m[1,:]\n",
    "m2"
   ],
   "outputs": [],
   "execution_count": null
  },
  {
   "cell_type": "markdown",
   "metadata": {},
   "source": [
    "#### The left 3 columns of m"
   ]
  },
  {
   "cell_type": "code",
   "metadata": {},
   "source": [
    "m3 = m[:,0:3]\n",
    "print(m3)"
   ],
   "outputs": [],
   "execution_count": null
  },
  {
   "cell_type": "markdown",
   "metadata": {},
   "source": [
    "#### The bottom-right 2 by 2 square"
   ]
  },
  {
   "cell_type": "code",
   "metadata": {},
   "source": [
    "m4 = m[1:3,-2:]\n",
    "print(m4)"
   ],
   "outputs": [],
   "execution_count": null
  },
  {
   "cell_type": "markdown",
   "metadata": {},
   "source": [
    "#### (bonus) every other element of a  "
   ]
  },
  {
   "cell_type": "code",
   "metadata": {},
   "source": [
    "a4 = a[::2]\n",
    "a4"
   ],
   "outputs": [],
   "execution_count": null
  },
  {
   "cell_type": "markdown",
   "metadata": {},
   "source": [
    "### Array Math"
   ]
  },
  {
   "cell_type": "markdown",
   "metadata": {},
   "source": [
    "#### Subtract 5 from each element of a"
   ]
  },
  {
   "cell_type": "code",
   "metadata": {},
   "source": [
    "a_minus5 = a - 5\n",
    "a_minus5"
   ],
   "outputs": [],
   "execution_count": null
  },
  {
   "cell_type": "markdown",
   "metadata": {},
   "source": [
    "#### Create an array containing squares of all numbers from 1 to 10 (inclusive)"
   ]
  },
  {
   "cell_type": "code",
   "metadata": {},
   "source": [
    "squaredArr = np.arange(1,11) ** 2\n",
    "squaredArr"
   ],
   "outputs": [],
   "execution_count": null
  },
  {
   "cell_type": "markdown",
   "metadata": {},
   "source": [
    "#### Create an array containing all powers of 2 from $2^0$ to $2^{10}$ (inclusive)"
   ]
  },
  {
   "cell_type": "code",
   "metadata": {},
   "source": [
    "poweredArr = 2 ** np.arange(0,11)\n",
    "poweredArr"
   ],
   "outputs": [],
   "execution_count": null
  },
  {
   "cell_type": "markdown",
   "metadata": {},
   "source": [
    "#### Same as above (powers of two), but subtract one from each element, that is $a_k = 2^k - 1$"
   ]
  },
  {
   "cell_type": "code",
   "metadata": {},
   "source": [
    "subPoweredArr = (2 ** np.arange(0,11)) - 1\n",
    "subPoweredArr"
   ],
   "outputs": [],
   "execution_count": null
  },
  {
   "cell_type": "markdown",
   "metadata": {},
   "source": [
    "### Bonus task\n",
    "Write code that lists all available dtypes with specified number of bits "
   ]
  },
  {
   "cell_type": "code",
   "metadata": {},
   "source": [
    "# Hint\n",
    "np.int8"
   ],
   "outputs": [],
   "execution_count": null
  },
  {
   "cell_type": "markdown",
   "metadata": {},
   "source": [
    "## Plotting Basics\n",
    " - Use [this tutorial](https://matplotlib.org/users/pyplot_tutorial.html) as reference when (if) you get stuck\n",
    " - Execute the cells with imports, otherwise you won't have numpy and matplotlib imported and Python will complain"
   ]
  },
  {
   "cell_type": "code",
   "metadata": {},
   "source": [
    "import numpy as np\n",
    "import matplotlib.pyplot as plt"
   ],
   "outputs": [],
   "execution_count": null
  },
  {
   "cell_type": "code",
   "metadata": {},
   "source": [
    "# Load weather data (take a look at that CSV file on GitHub or via Excel and note column names)\n",
    "weather = np.loadtxt(\"OshawaWeather2016.csv\", skiprows=1, delimiter=',')"
   ],
   "outputs": [],
   "execution_count": null
  },
  {
   "cell_type": "code",
   "metadata": {},
   "source": [
    "weather.shape"
   ],
   "outputs": [],
   "execution_count": null
  },
  {
   "cell_type": "code",
   "metadata": {},
   "source": [
    "weather.dtype"
   ],
   "outputs": [],
   "execution_count": null
  },
  {
   "cell_type": "markdown",
   "metadata": {},
   "source": [
    "#### Crate separate 1D arrays for each column (e.g: day, maxt, mint and so on)"
   ]
  },
  {
   "cell_type": "code",
   "metadata": {},
   "source": [
    "# your code here\n",
    "# column name in csv file: Day,Max Temp (°C),Min Temp (°C),Mean Temp (°C),Total Precip (mm)\n",
    "# day = weather[???]\n",
    "day = weather[:,0]\n",
    "maxTemp = weather[:,1]\n",
    "minTemp = weather[:,2]\n",
    "meanTemp = weather[:,3]\n",
    "totalPrecip = weather[:,4]\n",
    "print(day)\n",
    "#print(maxTemp)\n",
    "#print(minTemp)\n",
    "#print(meanTemp)\n",
    "#print(totalPrecip)\n"
   ],
   "outputs": [],
   "execution_count": null
  },
  {
   "cell_type": "markdown",
   "metadata": {},
   "source": [
    "#### Plot the minimum temperature as a function of day number"
   ]
  },
  {
   "cell_type": "code",
   "metadata": {},
   "source": "plt.plot(day, minTemp)",
   "outputs": [],
   "execution_count": null
  },
  {
   "cell_type": "markdown",
   "metadata": {},
   "source": [
    "#### Plot the max temperature in degrees Fahrenheit"
   ]
  },
  {
   "cell_type": "code",
   "metadata": {},
   "source": [
    "maxTempF = maxTemp * 9/5 + 32\n",
    "plt.plot(day, maxTempF)"
   ],
   "outputs": [],
   "execution_count": null
  },
  {
   "cell_type": "markdown",
   "metadata": {},
   "source": [
    "#### Plot the difference between the maximum and the minimum day temperature as a function of day number"
   ]
  },
  {
   "cell_type": "code",
   "metadata": {},
   "source": "plt.plot(day, maxTemp - minTemp)",
   "outputs": [],
   "execution_count": null
  },
  {
   "cell_type": "markdown",
   "metadata": {},
   "source": [
    "#### Plot both, the minimum and maximum temperature on the same figure"
   ]
  },
  {
   "cell_type": "code",
   "metadata": {},
   "source": [
    "plt.plot(day, minTemp, label='Min Temp (°C)')\n",
    "plt.plot(day, maxTemp, label='Max Temp (°C)')\n",
    "plt.legend()\n",
    "plt.xlabel('Day of the year')\n",
    "plt.ylabel('Temperature (°C)')"
   ],
   "outputs": [],
   "execution_count": null
  },
  {
   "cell_type": "markdown",
   "metadata": {},
   "source": [
    "#### Add axis labels and a legend to the plot above\n",
    "Use the following functions:\n",
    " - plt.xlabel\n",
    " - plt.ylabel\n",
    " - plt.title\n",
    " - plt.legend"
   ]
  },
  {
   "cell_type": "markdown",
   "metadata": {},
   "source": [
    "#### Plot the precipitation as a function of max temperature\n",
    "You probably don't want a line connecting the dots.\n",
    "Are there any patterns you can spot?"
   ]
  },
  {
   "cell_type": "code",
   "metadata": {},
   "source": [
    "plt.plot(maxTemp, totalPrecip, marker='o', linestyle='None')\n",
    "plt.xlabel('Max Temperature (°C)')\n",
    "plt.ylabel('Total Precipitation (mm)')"
   ],
   "outputs": [],
   "execution_count": null
  },
  {
   "cell_type": "markdown",
   "metadata": {},
   "source": [
    "#### Plot the precipitation as a function of (t_max - t_min)"
   ]
  },
  {
   "cell_type": "code",
   "metadata": {},
   "source": [
    "plt.plot(maxTemp - minTemp, totalPrecip, marker='o', linestyle='None')\n",
    "plt.xlabel('Max Temperature (°C)')\n",
    "plt.ylabel('Total Precipitation (mm)')"
   ],
   "outputs": [],
   "execution_count": null
  },
  {
   "cell_type": "markdown",
   "metadata": {},
   "source": [
    "#### Read about plt.hist() function and plot a histogram of the maximum temperatures"
   ]
  },
  {
   "cell_type": "code",
   "metadata": {},
   "source": [
    "plt.hist?"
   ],
   "outputs": [],
   "execution_count": null
  },
  {
   "cell_type": "markdown",
   "metadata": {},
   "source": [
    "#### Plot a histogram of the differences between the min and max temperature"
   ]
  },
  {
   "cell_type": "code",
   "metadata": {},
   "source": "plt.hist(maxTemp - minTemp, bins=45, edgecolor='black')",
   "outputs": [],
   "execution_count": null
  },
  {
   "cell_type": "markdown",
   "metadata": {},
   "source": [
    "#### For each day calculate the average of the 3 temperatures in the data (min max and avg)\n"
   ]
  },
  {
   "cell_type": "code",
   "metadata": {
    "ExecuteTime": {
     "end_time": "2025-09-16T18:31:36.974581Z",
     "start_time": "2025-09-16T18:31:36.927985Z"
    }
   },
   "source": [
    "plt.plot(day, (maxTemp + minTemp + meanTemp) / 3)\n",
    "plt.xlabel('Day of the year')\n",
    "plt.ylabel('Average Temperature (°C)')"
   ],
   "outputs": [
    {
     "data": {
      "text/plain": [
       "Text(0, 0.5, 'Average Temperature (°C)')"
      ]
     },
     "execution_count": 102,
     "metadata": {},
     "output_type": "execute_result"
    },
    {
     "data": {
      "text/plain": [
       "<Figure size 640x480 with 1 Axes>"
      ],
      "image/png": "[encoded data removed]"
     },
     "metadata": {},
     "output_type": "display_data"
    }
   ],
   "execution_count": 102
  },
  {
   "cell_type": "markdown",
   "metadata": {},
   "source": [
    "#### Calculate the total amount of precipitation for the whole year\n",
    "Does the number seem reasonable? The annual average precipitation in Toronto is 831 mm according to https://en.wikipedia.org/wiki/Geography_of_Toronto"
   ]
  },
  {
   "cell_type": "code",
   "metadata": {
    "ExecuteTime": {
     "end_time": "2025-09-16T18:35:08.817066Z",
     "start_time": "2025-09-16T18:35:08.814892Z"
    }
   },
   "source": [
    "totalAnnualPrecip = np.sum(totalPrecip)\n",
    "print(totalAnnualPrecip)\n",
    "if totalAnnualPrecip > 831:\n",
    "    print(f\"{totalAnnualPrecip - 831} mm more than average precipitation in Toronto\")\n",
    "else:\n",
    "    print(f\"{831 - totalAnnualPrecip} mm less than average precipitation in Toronto\")"
   ],
   "outputs": [
    {
     "name": "stdout",
     "output_type": "stream",
     "text": [
      "662.8000000000001\n",
      "168.19999999999993 mm less than average precipitation in Toronto\n"
     ]
    }
   ],
   "execution_count": 109
  },
  {
   "cell_type": "markdown",
   "metadata": {},
   "source": [
    "#### Calculate the total precipitation on all odd numbered days (day 1, 3, 5 and so on)"
   ]
  },
  {
   "cell_type": "code",
   "metadata": {
    "ExecuteTime": {
     "end_time": "2025-09-16T18:35:55.368023Z",
     "start_time": "2025-09-16T18:35:55.365357Z"
    }
   },
   "source": [
    "totalOddDaysPrecip = np.sum(totalPrecip[::2])\n",
    "print(totalOddDaysPrecip)"
   ],
   "outputs": [
    {
     "name": "stdout",
     "output_type": "stream",
     "text": [
      "365.9\n"
     ]
    }
   ],
   "execution_count": 110
  }
 ],
 "metadata": {
  "kernelspec": {
   "display_name": "Python 3 (ipykernel)",
   "language": "python",
   "name": "python3"
  },
  "language_info": {
   "codemirror_mode": {
    "name": "ipython",
    "version": 3
   },
   "file_extension": ".py",
   "mimetype": "text/x-python",
   "name": "python",
   "nbconvert_exporter": "python",
   "pygments_lexer": "ipython3",
   "version": "3.11.4"
  }
 },
 "nbformat": 4,
 "nbformat_minor": 4
}
